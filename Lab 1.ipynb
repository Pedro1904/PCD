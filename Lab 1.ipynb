{
 "cells": [
  {
   "cell_type": "code",
   "execution_count": 1,
   "metadata": {},
   "outputs": [
    {
     "data": {
      "text/plain": [
       "int"
      ]
     },
     "execution_count": 1,
     "metadata": {},
     "output_type": "execute_result"
    }
   ],
   "source": [
    "# 1) Verify if a value is an integer\n",
    "a=2\n",
    "type(a)"
   ]
  },
  {
   "cell_type": "code",
   "execution_count": 2,
   "metadata": {},
   "outputs": [
    {
     "data": {
      "text/plain": [
       "False"
      ]
     },
     "execution_count": 2,
     "metadata": {},
     "output_type": "execute_result"
    }
   ],
   "source": [
    "#2) Verify if a value is even (se for par resto da divisao é 0)\n",
    "b=3\n",
    "b%2==0"
   ]
  },
  {
   "cell_type": "code",
   "execution_count": 4,
   "metadata": {},
   "outputs": [
    {
     "name": "stdout",
     "output_type": "stream",
     "text": [
      "primeiro numero: 6\n",
      "segundo numero: 2\n"
     ]
    },
    {
     "data": {
      "text/plain": [
       "True"
      ]
     },
     "execution_count": 4,
     "metadata": {},
     "output_type": "execute_result"
    }
   ],
   "source": [
    "#3) Insert two numbers. Is the first is bigger than the second?\n",
    "num1=int (input(\"primeiro numero: \"))\n",
    "num2=int (input(\"segundo numero: \"))\n",
    "num1>num2"
   ]
  },
  {
   "cell_type": "code",
   "execution_count": 4,
   "metadata": {},
   "outputs": [
    {
     "data": {
      "text/plain": [
       "True"
      ]
     },
     "execution_count": 4,
     "metadata": {},
     "output_type": "execute_result"
    }
   ],
   "source": [
    "#4) Verify if one value is multiple of another\n",
    "c=10\n",
    "d=5\n",
    "c%d==0"
   ]
  },
  {
   "cell_type": "code",
   "execution_count": 7,
   "metadata": {},
   "outputs": [
    {
     "data": {
      "text/plain": [
       "18.0"
      ]
     },
     "execution_count": 7,
     "metadata": {},
     "output_type": "execute_result"
    }
   ],
   "source": [
    "#5) Calculate the interest earn by an investor that invested an amount of capital of 200 during three years with aninterest rate of 3%.\n",
    "#(I= P*R*T)\n",
    "Montante=200\n",
    "Tempo=3\n",
    "Taxa=0.03\n",
    "Juro=Montante*Taxa*Tempo\n",
    "Juro"
   ]
  },
  {
   "cell_type": "code",
   "execution_count": 9,
   "metadata": {},
   "outputs": [
    {
     "data": {
      "text/plain": [
       "218.5454"
      ]
     },
     "execution_count": 9,
     "metadata": {},
     "output_type": "execute_result"
    }
   ],
   "source": [
    "#6) Capital that an investor obtained after investing an amount of capital of 200 during three years with an interestrate of 3%. (Compound interest)\n",
    "JuroComposto=Montante*(1+Taxa)**Tempo\n",
    "JuroComposto"
   ]
  },
  {
   "cell_type": "code",
   "execution_count": 19,
   "metadata": {},
   "outputs": [
    {
     "name": "stdout",
     "output_type": "stream",
     "text": [
      "Insira o seu peso em kg: 49.5\n",
      "Insira a sua altura em metros: 1.65\n",
      "O seu BMI é 18.18\n"
     ]
    }
   ],
   "source": [
    "#7) Calculate your BMI (Body Mass Index)\n",
    "peso=float(input(\"Insira o seu peso em kg: \"))\n",
    "altura=float(input(\"Insira a sua altura em metros: \"))\n",
    "BMI=peso/(altura**2)\n",
    "print(\"O seu BMI é %.2F\" %BMI)"
   ]
  },
  {
   "cell_type": "code",
   "execution_count": 20,
   "metadata": {},
   "outputs": [
    {
     "data": {
      "text/plain": [
       "1.618033988749895"
      ]
     },
     "execution_count": 20,
     "metadata": {},
     "output_type": "execute_result"
    }
   ],
   "source": [
    "#8) Calculate the Golden ration:\n",
    "GR=(1+5**(1/2))/2\n",
    "GR"
   ]
  },
  {
   "cell_type": "code",
   "execution_count": 34,
   "metadata": {},
   "outputs": [
    {
     "name": "stdout",
     "output_type": "stream",
     "text": [
      "NPV=  13139.440301519393\n"
     ]
    }
   ],
   "source": [
    "#9) Calculate the NPV (Net present value) of an investment, considering an initial investment of 10000, the following\n",
    "cashflows=[2000,3000,4000,4000,5000]\n",
    "k=0.1\n",
    "NPV=0 #0 se o nao houver investimento inicial\n",
    "for i in range(0,5):\n",
    "    NPV=NPV+float(cashflows[i]/(1+k)**(i+1))\n",
    "print(\"NPV= \", NPV)"
   ]
  },
  {
   "cell_type": "code",
   "execution_count": 40,
   "metadata": {},
   "outputs": [
    {
     "name": "stdout",
     "output_type": "stream",
     "text": [
      "Insira o seu nome: Pedro\n",
      "Insira a sua idade: 21\n",
      "Esta pessoa nasceu em  1999\n"
     ]
    }
   ],
   "source": [
    "#10) Ask the user to insert name and age. Calculate the birth year. Print a result saying the 'this person was born in.'\n",
    "    #1. Solve the problem without using modules and libraries\n",
    "Nome=str(input(\"Insira o seu nome: \"))\n",
    "Idade=int(input(\"Insira a sua idade: \"))\n",
    "Ano=2020\n",
    "AnoNascimento=Ano-Idade\n",
    "print(\"Esta pessoa nasceu em \", AnoNascimento)"
   ]
  },
  {
   "cell_type": "code",
   "execution_count": 42,
   "metadata": {},
   "outputs": [
    {
     "name": "stdout",
     "output_type": "stream",
     "text": [
      "Insira o seu nome: Pedro\n",
      "Insira a sua idade: 21\n",
      "Esta pessoa nasceu em  1999\n"
     ]
    }
   ],
   "source": [
    "    #2. Solve the problem using the date library from module datetime, as fallow:\n",
    "from datetime import date\n",
    "today=date.today()\n",
    "today.year\n",
    "Nome=str(input(\"Insira o seu nome: \"))\n",
    "Idade=int(input(\"Insira a sua idade: \"))\n",
    "AnoNascimento=today.year-Idade\n",
    "print(\"Esta pessoa nasceu em \", AnoNascimento)"
   ]
  },
  {
   "cell_type": "code",
   "execution_count": 53,
   "metadata": {},
   "outputs": [
    {
     "name": "stdout",
     "output_type": "stream",
     "text": [
      "Insira nome próprio:pedro\n",
      "Insira apelidos: almeida\n"
     ]
    },
    {
     "data": {
      "text/plain": [
       "'PEDRO ALMEIDA'"
      ]
     },
     "execution_count": 53,
     "metadata": {},
     "output_type": "execute_result"
    }
   ],
   "source": [
    "#11) Ask the user to insert forenames, surnames. Create a new variable (name) with your complete name.\n",
    "Proprio=str(input(\"Insira nome próprio:\"))\n",
    "Apelidos=str(input(\"Insira apelidos: \"))\n",
    "Nome=Proprio+\" \"+Apelidos\n",
    "nomeBig=Nome.upper()\n",
    "nomeBig"
   ]
  },
  {
   "cell_type": "code",
   "execution_count": 54,
   "metadata": {},
   "outputs": [
    {
     "data": {
      "text/plain": [
       "'Pedro Almeida'"
      ]
     },
     "execution_count": 54,
     "metadata": {},
     "output_type": "execute_result"
    }
   ],
   "source": [
    "nomeTitle=Nome.title()\n",
    "nomeTitle"
   ]
  },
  {
   "cell_type": "code",
   "execution_count": 56,
   "metadata": {},
   "outputs": [
    {
     "data": {
      "text/plain": [
       "'pedro almeida'"
      ]
     },
     "execution_count": 56,
     "metadata": {},
     "output_type": "execute_result"
    }
   ],
   "source": [
    "nomeSmall=Nome.lower()\n",
    "nomeSmall"
   ]
  },
  {
   "cell_type": "code",
   "execution_count": 57,
   "metadata": {},
   "outputs": [
    {
     "data": {
      "text/plain": [
       "'Pedro almeida'"
      ]
     },
     "execution_count": 57,
     "metadata": {},
     "output_type": "execute_result"
    }
   ],
   "source": [
    "nomeCapitalized=Nome.capitalize()\n",
    "nomeCapitalized"
   ]
  },
  {
   "cell_type": "code",
   "execution_count": 6,
   "metadata": {},
   "outputs": [
    {
     "ename": "TypeError",
     "evalue": "slice indices must be integers or None or have an __index__ method",
     "output_type": "error",
     "traceback": [
      "\u001b[1;31m---------------------------------------------------------------------------\u001b[0m",
      "\u001b[1;31mTypeError\u001b[0m                                 Traceback (most recent call last)",
      "\u001b[1;32m<ipython-input-6-1ba6040ce79f>\u001b[0m in \u001b[0;36m<module>\u001b[1;34m\u001b[0m\n\u001b[0;32m      1\u001b[0m \u001b[1;31m#12) Use the following method to show in which character appears the first \"da\"\u001b[0m\u001b[1;33m\u001b[0m\u001b[1;33m\u001b[0m\u001b[1;33m\u001b[0m\u001b[0m\n\u001b[1;32m----> 2\u001b[1;33m \u001b[0mstr\u001b[0m\u001b[1;33m.\u001b[0m\u001b[0mfind\u001b[0m\u001b[1;33m(\u001b[0m\u001b[1;34m\"sub\"\u001b[0m\u001b[1;33m,\u001b[0m\u001b[1;34m\"start\"\u001b[0m\u001b[1;33m,\u001b[0m\u001b[1;34m\"end\"\u001b[0m\u001b[1;33m)\u001b[0m\u001b[1;33m\u001b[0m\u001b[1;33m\u001b[0m\u001b[0m\n\u001b[0m\u001b[0;32m      3\u001b[0m \u001b[0mfind\u001b[0m\u001b[1;33m(\u001b[0m\u001b[1;34m\"da\"\u001b[0m\u001b[1;33m)\u001b[0m\u001b[1;33m\u001b[0m\u001b[1;33m\u001b[0m\u001b[0m\n\u001b[0;32m      4\u001b[0m \u001b[1;31m#nao percebi o que é para fazer\u001b[0m\u001b[1;33m\u001b[0m\u001b[1;33m\u001b[0m\u001b[1;33m\u001b[0m\u001b[0m\n",
      "\u001b[1;31mTypeError\u001b[0m: slice indices must be integers or None or have an __index__ method"
     ]
    }
   ],
   "source": [
    "#12) Use the following method to show in which character appears the first \"da\"\n",
    "str.find(sub,start,end)\n",
    "#nao percebi o que é para fazer"
   ]
  },
  {
   "cell_type": "code",
   "execution_count": null,
   "metadata": {},
   "outputs": [],
   "source": []
  }
 ],
 "metadata": {
  "kernelspec": {
   "display_name": "Python 3",
   "language": "python",
   "name": "python3"
  },
  "language_info": {
   "codemirror_mode": {
    "name": "ipython",
    "version": 3
   },
   "file_extension": ".py",
   "mimetype": "text/x-python",
   "name": "python",
   "nbconvert_exporter": "python",
   "pygments_lexer": "ipython3",
   "version": "3.7.4"
  }
 },
 "nbformat": 4,
 "nbformat_minor": 2
}
