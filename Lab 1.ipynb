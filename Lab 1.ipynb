{
 "cells": [
  {
   "cell_type": "code",
   "execution_count": 1,
   "metadata": {},
   "outputs": [
    {
     "data": {
      "text/plain": [
       "int"
      ]
     },
     "execution_count": 1,
     "metadata": {},
     "output_type": "execute_result"
    }
   ],
   "source": [
    "# 1) Verify if a value is an integer\n",
    "a=2\n",
    "type(a)"
   ]
  },
  {
   "cell_type": "code",
   "execution_count": 2,
   "metadata": {},
   "outputs": [
    {
     "data": {
      "text/plain": [
       "False"
      ]
     },
     "execution_count": 2,
     "metadata": {},
     "output_type": "execute_result"
    }
   ],
   "source": [
    "#2) Verify if a value is even (se for par resto da divisao é 0)\n",
    "b=3\n",
    "b%2==0"
   ]
  },
  {
   "cell_type": "code",
   "execution_count": 3,
   "metadata": {},
   "outputs": [
    {
     "name": "stdout",
     "output_type": "stream",
     "text": [
      "primeiro numero: 5\n",
      "segundo numero: 6\n"
     ]
    },
    {
     "data": {
      "text/plain": [
       "False"
      ]
     },
     "execution_count": 3,
     "metadata": {},
     "output_type": "execute_result"
    }
   ],
   "source": [
    "#3) Insert two numbers. Is the first is bigger than the second?\n",
    "num1=int (input(\"primeiro numero: \"))\n",
    "num2=int (input(\"segundo numero: \"))\n",
    "num1>num2"
   ]
  },
  {
   "cell_type": "code",
   "execution_count": 4,
   "metadata": {},
   "outputs": [
    {
     "data": {
      "text/plain": [
       "True"
      ]
     },
     "execution_count": 4,
     "metadata": {},
     "output_type": "execute_result"
    }
   ],
   "source": [
    "#4) Verify if one value is multiple of another\n",
    "c=10\n",
    "d=5\n",
    "c%d==0 or d%c==0 #nao pos o segundo no aquila"
   ]
  },
  {
   "cell_type": "code",
   "execution_count": 5,
   "metadata": {},
   "outputs": [
    {
     "data": {
      "text/plain": [
       "18.0"
      ]
     },
     "execution_count": 5,
     "metadata": {},
     "output_type": "execute_result"
    }
   ],
   "source": [
    "#5) Calculate the interest earn by an investor that invested an amount of capital of 200 during three years with aninterest rate of 3%.\n",
    "#(I= P*R*T)\n",
    "Montante=200\n",
    "Tempo=3\n",
    "Taxa=0.03\n",
    "Juro=Montante*Taxa*Tempo\n",
    "Juro"
   ]
  },
  {
   "cell_type": "code",
   "execution_count": 6,
   "metadata": {},
   "outputs": [
    {
     "data": {
      "text/plain": [
       "218.5454"
      ]
     },
     "execution_count": 6,
     "metadata": {},
     "output_type": "execute_result"
    }
   ],
   "source": [
    "#6) Capital that an investor obtained after investing an amount of capital of 200 during three years with an interestrate of 3%. (Compound interest)\n",
    "JuroComposto=Montante*(1+Taxa)**Tempo\n",
    "JuroComposto"
   ]
  },
  {
   "cell_type": "code",
   "execution_count": 13,
   "metadata": {},
   "outputs": [
    {
     "name": "stdout",
     "output_type": "stream",
     "text": [
      "Insira o seu peso em kg: 49\n",
      "Insira a sua altura em metros: 1.61\n",
      "O seu BMI é 18.90\n"
     ]
    }
   ],
   "source": [
    "#7) Calculate your BMI (Body Mass Index)\n",
    "peso=float(input(\"Insira o seu peso em kg: \"))\n",
    "altura=float(input(\"Insira a sua altura em metros: \"))\n",
    "BMI=peso/(altura**2)\n",
    "print(\"O seu BMI é %.2F\" %BMI)"
   ]
  },
  {
   "cell_type": "code",
   "execution_count": 10,
   "metadata": {},
   "outputs": [
    {
     "data": {
      "text/plain": [
       "1.618033988749895"
      ]
     },
     "execution_count": 10,
     "metadata": {},
     "output_type": "execute_result"
    }
   ],
   "source": [
    "#8) Calculate the Golden ration:\n",
    "GR=(1+5**(1/2))/2\n",
    "GR"
   ]
  },
  {
   "cell_type": "code",
   "execution_count": 13,
   "metadata": {},
   "outputs": [
    {
     "name": "stdout",
     "output_type": "stream",
     "text": [
      "1.618033988749895\n"
     ]
    }
   ],
   "source": [
    "import math\n",
    "GR2=(1+math.sqrt(5))/2\n",
    "print(GR2)"
   ]
  },
  {
   "cell_type": "code",
   "execution_count": 38,
   "metadata": {},
   "outputs": [
    {
     "name": "stdout",
     "output_type": "stream",
     "text": [
      "NPV=  3139.440301519393\n"
     ]
    }
   ],
   "source": [
    "#9) Calculate the NPV (Net present value) of an investment, considering an initial investment of 10000, the following\n",
    "cashflows=[2000,3000,4000,4000,5000]\n",
    "k=0.1\n",
    "NPV=0 \n",
    "Investimento=10000\n",
    "for i in range(0,5):\n",
    "    NPV=NPV+float(cashflows[i]/(1+k)**(i+1))\n",
    "NPV=NPV-Investimento\n",
    "print(\"NPV= \", NPV) #No que foi submetido no aquila estava muita coisa mal"
   ]
  },
  {
   "cell_type": "code",
   "execution_count": 16,
   "metadata": {},
   "outputs": [
    {
     "name": "stdout",
     "output_type": "stream",
     "text": [
      "3139.440301519393\n"
     ]
    }
   ],
   "source": [
    "#outra forma de 9)\n",
    "I=10000 #no anterior tinha conside o investimento inicial 0, por ter lido mal o enunciado\n",
    "CF1=2000\n",
    "CF2=3000\n",
    "CF3=4000\n",
    "CF4=4000\n",
    "CF5=5000\n",
    "taxa=0.1\n",
    "NPV2=(CF1/(1+taxa))+(CF2/(1+taxa)**2)+(CF3/(1+taxa)**3)+(CF4/(1+taxa)**4)+(CF5/(1+taxa)**5)-I\n",
    "print(NPV2)"
   ]
  },
  {
   "cell_type": "code",
   "execution_count": 6,
   "metadata": {},
   "outputs": [
    {
     "name": "stdout",
     "output_type": "stream",
     "text": [
      "Insira o seu nome: Pedro \n",
      "Insira a sua idade: 21\n",
      "Esta pessoa nasceu em  1999\n"
     ]
    }
   ],
   "source": [
    "#10) Ask the user to insert name and age. Calculate the birth year. Print a result saying the 'this person was born in.'\n",
    "    #1. Solve the problem without using modules and libraries\n",
    "Nome=str(input(\"Insira o seu nome: \"))\n",
    "Idade=int(input(\"Insira a sua idade: \"))\n",
    "Ano=2020\n",
    "AnoNascimento=Ano-Idade\n",
    "print(\"Esta pessoa nasceu em \", AnoNascimento)"
   ]
  },
  {
   "cell_type": "code",
   "execution_count": 7,
   "metadata": {},
   "outputs": [
    {
     "name": "stdout",
     "output_type": "stream",
     "text": [
      "Insira o seu nome: Pedro\n",
      "Insira a sua idade: 21\n",
      "Esta pessoa nasceu em  1999\n"
     ]
    }
   ],
   "source": [
    "    #2. Solve the problem using the date library from module datetime, as fallow:\n",
    "from datetime import date\n",
    "today=date.today()\n",
    "today.year\n",
    "Nome=str(input(\"Insira o seu nome: \"))\n",
    "Idade=int(input(\"Insira a sua idade: \"))\n",
    "AnoNascimento=today.year-Idade\n",
    "print(\"Esta pessoa nasceu em \", AnoNascimento)"
   ]
  },
  {
   "cell_type": "code",
   "execution_count": 2,
   "metadata": {},
   "outputs": [
    {
     "name": "stdout",
     "output_type": "stream",
     "text": [
      "Insira nome próprio:Pedro Rafael\n",
      "Insira apelidos: Violante de Almeida\n"
     ]
    },
    {
     "data": {
      "text/plain": [
       "'PEDRO RAFAEL VIOLANTE DE ALMEIDA'"
      ]
     },
     "execution_count": 2,
     "metadata": {},
     "output_type": "execute_result"
    }
   ],
   "source": [
    "#11) Ask the user to insert forenames, surnames. Create a new variable (name) with your complete name.\n",
    "Proprio=str(input(\"Insira nome próprio:\"))\n",
    "Apelidos=str(input(\"Insira apelidos: \"))\n",
    "Nome=Proprio+\" \"+Apelidos\n",
    "nomeBig=Nome.upper()\n",
    "nomeBig\n"
   ]
  },
  {
   "cell_type": "code",
   "execution_count": 3,
   "metadata": {},
   "outputs": [
    {
     "data": {
      "text/plain": [
       "'Pedro Rafael Violante De Almeida'"
      ]
     },
     "execution_count": 3,
     "metadata": {},
     "output_type": "execute_result"
    }
   ],
   "source": [
    "nomeTitle=Nome.title()\n",
    "nomeTitle"
   ]
  },
  {
   "cell_type": "code",
   "execution_count": 4,
   "metadata": {},
   "outputs": [
    {
     "data": {
      "text/plain": [
       "'pedro rafael violante de almeida'"
      ]
     },
     "execution_count": 4,
     "metadata": {},
     "output_type": "execute_result"
    }
   ],
   "source": [
    "nomeSmall=Nome.lower()\n",
    "nomeSmall"
   ]
  },
  {
   "cell_type": "code",
   "execution_count": 5,
   "metadata": {},
   "outputs": [
    {
     "data": {
      "text/plain": [
       "'Pedro rafael violante de almeida'"
      ]
     },
     "execution_count": 5,
     "metadata": {},
     "output_type": "execute_result"
    }
   ],
   "source": [
    "nomeCapitalized=Nome.capitalize()\n",
    "nomeCapitalized"
   ]
  },
  {
   "cell_type": "code",
   "execution_count": 10,
   "metadata": {},
   "outputs": [
    {
     "data": {
      "text/plain": [
       "30"
      ]
     },
     "execution_count": 10,
     "metadata": {},
     "output_type": "execute_result"
    }
   ],
   "source": [
    "#12) Use the following method to show in which character appears the first \"da\"\n",
    "name.find('da')\n",
    "#nao percebi se era isto"
   ]
  }
 ],
 "metadata": {
  "kernelspec": {
   "display_name": "Python 3",
   "language": "python",
   "name": "python3"
  },
  "language_info": {
   "codemirror_mode": {
    "name": "ipython",
    "version": 3
   },
   "file_extension": ".py",
   "mimetype": "text/x-python",
   "name": "python",
   "nbconvert_exporter": "python",
   "pygments_lexer": "ipython3",
   "version": "3.7.4"
  }
 },
 "nbformat": 4,
 "nbformat_minor": 2
}
