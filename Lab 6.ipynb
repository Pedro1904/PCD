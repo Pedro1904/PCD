{
 "cells": [
  {
   "cell_type": "code",
   "execution_count": 23,
   "metadata": {},
   "outputs": [
    {
     "name": "stdout",
     "output_type": "stream",
     "text": [
      "Introduza a taxa de juro de referencia para calculo de NPV: 1\n",
      "Inserir CashFlows Anuais: -300\n",
      "Inserir CashFlows Anuais: 100\n",
      "Inserir CashFlows Anuais: 100\n",
      "Inserir CashFlows Anuais: 100\n",
      "Inserir CashFlows Anuais: 100\n"
     ]
    }
   ],
   "source": [
    "#create a function called NPV to calculate NPV\n",
    "txRef=int(input(\"Introduza a taxa de juro de referencia para calculo de NPV: \"))\n",
    "CashFlowsList=[]\n",
    "\n",
    "for i in range(0,5):\n",
    "    Numeros=int(input(\"Inserir CashFlows Anuais: \"))\n",
    "    CashFlowsList.append(Numeros)\n",
    "\n",
    "def FunçaoNPV(CashFlowsList, txRef):\n",
    "    NPV=0\n",
    "    txRef=txRef/100\n",
    "    for i in range(0,5):\n",
    "        NPV+=int(CashFlowsList[i]/(1+txRef)**(i))\n",
    "    return NPV"
   ]
  },
  {
   "cell_type": "code",
   "execution_count": 24,
   "metadata": {},
   "outputs": [
    {
     "data": {
      "text/plain": [
       "90"
      ]
     },
     "execution_count": 24,
     "metadata": {},
     "output_type": "execute_result"
    }
   ],
   "source": [
    "FunçaoNPV(CashFlowsList, txRef)"
   ]
  },
  {
   "cell_type": "code",
   "execution_count": 33,
   "metadata": {},
   "outputs": [
    {
     "data": {
      "text/plain": [
       "12.26233720168759"
      ]
     },
     "execution_count": 33,
     "metadata": {},
     "output_type": "execute_result"
    }
   ],
   "source": [
    "#create a function to calcule IRR.\n",
    "def IRR(CashFlowsList):\n",
    "    rate=0.1\n",
    "    iterar=10000\n",
    "    investimento=CashFlowsList[0]\n",
    "    for i in range(1, iterar):\n",
    "        rate= rate*(1-(FunçaoNPV(CashFlowsList, rate))/investimento)\n",
    "    return rate\n",
    "\n",
    "IRR(CashFlowsList)"
   ]
  },
  {
   "cell_type": "code",
   "execution_count": 29,
   "metadata": {
    "scrolled": true
   },
   "outputs": [
    {
     "data": {
      "text/plain": [
       "3"
      ]
     },
     "execution_count": 29,
     "metadata": {},
     "output_type": "execute_result"
    }
   ],
   "source": [
    "#create a function for payback period\n",
    "def pbp(CashFlowsList):\n",
    "    i=0\n",
    "    soma=0\n",
    "    investimento=-CashFlowsList[0]\n",
    "    while (soma<investimento):\n",
    "        i+=1\n",
    "        soma+=CashFlowsList[i]\n",
    "    return i\n",
    "\n",
    "pbp(CashFlowsList)"
   ]
  },
  {
   "cell_type": "code",
   "execution_count": null,
   "metadata": {},
   "outputs": [],
   "source": []
  }
 ],
 "metadata": {
  "kernelspec": {
   "display_name": "Python 3",
   "language": "python",
   "name": "python3"
  },
  "language_info": {
   "codemirror_mode": {
    "name": "ipython",
    "version": 3
   },
   "file_extension": ".py",
   "mimetype": "text/x-python",
   "name": "python",
   "nbconvert_exporter": "python",
   "pygments_lexer": "ipython3",
   "version": "3.7.4"
  }
 },
 "nbformat": 4,
 "nbformat_minor": 2
}
