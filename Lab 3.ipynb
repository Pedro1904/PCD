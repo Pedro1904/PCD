{
 "cells": [
  {
   "cell_type": "code",
   "execution_count": 2,
   "metadata": {},
   "outputs": [],
   "source": [
    "#list of 007 movies where Sean Connery features James Bond\n",
    "moviesSeanConnery = [\"Dr. No (1962)\",\n",
    "\"From Russia with Love (1963)\",\n",
    "\"Goldfinger (1964)\",\n",
    "\"Thunderball (1965)\",\n",
    "\"You Only Live Twice (1967)\",\n",
    "\"Diamonds Are Forever (1971)\",\n",
    "\"Never Say Never Again (1983)\"] \n",
    "\n",
    "#list of 007 movies where David Neven features James Bond\n",
    "moviesDavidNeven=[\"Casino Royale (1967)\"]\n",
    "\n",
    "#list of 007 movies where George Lazenby features James Bond\n",
    "moviesGeorgeLazenby=[\"On Her Majesty's Secret Service (1969)\"]\n",
    "\n",
    "#list of 007 movies where Roger Moore features James Bond\n",
    "moviesRogerMoore=[ \"Live and Let Die (1973)\",\n",
    "\"The Man with the Golden Gun (1974)\",\n",
    "\"The Spy Who Loved Me (1977)\",\n",
    "\"Moonraker (1979)\",\n",
    "\"For Your Eyes Only (1981)\",\n",
    "\"Octopussy (1983)\",\n",
    "\"A View to a Kill (1985)\"]\n",
    "\n",
    "#list of 007 movies where Timothy Dalton features James Bond\n",
    "moviesTimothyDalton=[\n",
    "\"The Living Daylights (1987)\",\n",
    "\"Licence to Kill (1989)\"]\n",
    "\n",
    "#list of 007 movies where Pierce Brosnan features James Bond\n",
    "moviesPierceBrosnan=[\n",
    "\"GoldenEye (1995)\",\n",
    "\"Tomorrow Never Dies (1997)\",\n",
    "\"The World Is Not Enough (1999)\",\n",
    "\"Die Another Day (2002)\"]\n",
    "\n",
    "#list of 007 movies where Daniel Craig features James Bond\n",
    "moviesDanielCraig=[\"Casino Royale (2006)\",\n",
    "\"Quantum of Solace (2008)\",\n",
    "\"Skyfall (2012)\",\n",
    "\"Spectre (2015)\"]"
   ]
  },
  {
   "cell_type": "code",
   "execution_count": 3,
   "metadata": {},
   "outputs": [
    {
     "data": {
      "text/plain": [
       "[['Dr. No (1962)',\n",
       "  'From Russia with Love (1963)',\n",
       "  'Goldfinger (1964)',\n",
       "  'Thunderball (1965)',\n",
       "  'You Only Live Twice (1967)',\n",
       "  'Diamonds Are Forever (1971)',\n",
       "  'Never Say Never Again (1983)'],\n",
       " ['Casino Royale (1967)'],\n",
       " [\"On Her Majesty's Secret Service (1969)\"],\n",
       " ['Live and Let Die (1973)',\n",
       "  'The Man with the Golden Gun (1974)',\n",
       "  'The Spy Who Loved Me (1977)',\n",
       "  'Moonraker (1979)',\n",
       "  'For Your Eyes Only (1981)',\n",
       "  'Octopussy (1983)',\n",
       "  'A View to a Kill (1985)'],\n",
       " ['The Living Daylights (1987)', 'Licence to Kill (1989)'],\n",
       " ['GoldenEye (1995)',\n",
       "  'Tomorrow Never Dies (1997)',\n",
       "  'The World Is Not Enough (1999)',\n",
       "  'Die Another Day (2002)'],\n",
       " ['Casino Royale (2006)',\n",
       "  'Quantum of Solace (2008)',\n",
       "  'Skyfall (2012)',\n",
       "  'Spectre (2015)']]"
      ]
     },
     "execution_count": 3,
     "metadata": {},
     "output_type": "execute_result"
    }
   ],
   "source": [
    "#1) Create a list of lists (movies007). The list will be composed by each list of movies featured byeach actor.\n",
    "movies007=[]\n",
    "movies007.append(moviesSeanConnery)\n",
    "movies007.append(moviesDavidNeven)\n",
    "movies007.append(moviesGeorgeLazenby)\n",
    "movies007.append(moviesRogerMoore)\n",
    "movies007.append(moviesTimothyDalton)\n",
    "movies007.append(moviesPierceBrosnan)\n",
    "movies007.append(moviesDanielCraig)\n",
    "movies007\n",
    "\n",
    "\n"
   ]
  },
  {
   "cell_type": "code",
   "execution_count": 4,
   "metadata": {},
   "outputs": [
    {
     "data": {
      "text/plain": [
       "[['Dr. No (1962)',\n",
       "  'From Russia with Love (1963)',\n",
       "  'Goldfinger (1964)',\n",
       "  'Thunderball (1965)',\n",
       "  'You Only Live Twice (1967)',\n",
       "  'Diamonds Are Forever (1971)',\n",
       "  'Never Say Never Again (1983)'],\n",
       " ['Casino Royale (1967)'],\n",
       " [\"On Her Majesty's Secret Service (1969)\"],\n",
       " ['Live and Let Die (1973)',\n",
       "  'The Man with the Golden Gun (1974)',\n",
       "  'The Spy Who Loved Me (1977)',\n",
       "  'Moonraker (1979)',\n",
       "  'For Your Eyes Only (1981)',\n",
       "  'Octopussy (1983)',\n",
       "  'A View to a Kill (1985)'],\n",
       " ['The Living Daylights (1987)', 'Licence to Kill (1989)'],\n",
       " ['GoldenEye (1995)',\n",
       "  'Tomorrow Never Dies (1997)',\n",
       "  'The World Is Not Enough (1999)',\n",
       "  'Die Another Day (2002)'],\n",
       " ['Casino Royale (2006)',\n",
       "  'Quantum of Solace (2008)',\n",
       "  'Skyfall (2012)',\n",
       "  'Spectre (2015)']]"
      ]
     },
     "execution_count": 4,
     "metadata": {},
     "output_type": "execute_result"
    }
   ],
   "source": [
    "#outra forma de 1)\n",
    "movies007=[moviesSeanConnery,moviesDavidNeven,moviesGeorgeLazenby,moviesRogerMoore,moviesTimothyDalton,moviesPierceBrosnan,moviesDanielCraig]\n",
    "movies007"
   ]
  },
  {
   "cell_type": "code",
   "execution_count": 5,
   "metadata": {},
   "outputs": [
    {
     "name": "stdout",
     "output_type": "stream",
     "text": [
      "O primeiro ator a interpretar James Bond fez 7 filmes.\n"
     ]
    }
   ],
   "source": [
    "#2) How many movies were played by the first actor to play James Bond?\n",
    "print(\"O primeiro ator a interpretar James Bond fez\", len(moviesSeanConnery), \"filmes.\")\n"
   ]
  },
  {
   "cell_type": "code",
   "execution_count": 6,
   "metadata": {},
   "outputs": [
    {
     "name": "stdout",
     "output_type": "stream",
     "text": [
      "O primeiro ator a interpretar James Bond fez 7 filmes.\n"
     ]
    }
   ],
   "source": [
    "#outra forma de 2)\n",
    "print(\"O primeiro ator a interpretar James Bond fez\", len(movies007[0]), \"filmes.\")"
   ]
  },
  {
   "cell_type": "code",
   "execution_count": 22,
   "metadata": {},
   "outputs": [
    {
     "name": "stdout",
     "output_type": "stream",
     "text": [
      "O ultimo ator a interpretar James Bond fez 4 filmes.\n"
     ]
    }
   ],
   "source": [
    "#3) How many movies were played by the last actor to play James Bond?\n",
    "print(\"O ultimo ator a interpretar James Bond fez\", len(moviesDanielCraig), \"filmes.\")"
   ]
  },
  {
   "cell_type": "code",
   "execution_count": 7,
   "metadata": {},
   "outputs": [
    {
     "name": "stdout",
     "output_type": "stream",
     "text": [
      "O ultimo ator a interpretar James Bond fez 4 filmes.\n"
     ]
    }
   ],
   "source": [
    "#outra forma de 3)\n",
    "print(\"O ultimo ator a interpretar James Bond fez\", len(movies007[-1]), \"filmes.\")"
   ]
  },
  {
   "cell_type": "code",
   "execution_count": 23,
   "metadata": {},
   "outputs": [
    {
     "name": "stdout",
     "output_type": "stream",
     "text": [
      "7 atores interpretaram James Bond\n"
     ]
    }
   ],
   "source": [
    "#4) How many actors played the role of James Bond?\n",
    "print(len(movies007), \"atores interpretaram James Bond\")"
   ]
  },
  {
   "cell_type": "code",
   "execution_count": 24,
   "metadata": {},
   "outputs": [
    {
     "name": "stdout",
     "output_type": "stream",
     "text": [
      "[7, 1, 1, 7, 2, 4, 4]\n"
     ]
    }
   ],
   "source": [
    "#5) Create a new list with the number of movies played by each actor\n",
    "eachactor=[len(moviesSeanConnery), len(moviesDavidNeven), len(moviesGeorgeLazenby), len(moviesRogerMoore), len(moviesTimothyDalton), len(moviesPierceBrosnan), len(moviesDanielCraig)]\n",
    "print(eachactor)"
   ]
  },
  {
   "cell_type": "code",
   "execution_count": 25,
   "metadata": {},
   "outputs": [
    {
     "data": {
      "text/plain": [
       "7"
      ]
     },
     "execution_count": 25,
     "metadata": {},
     "output_type": "execute_result"
    }
   ],
   "source": [
    "#6) How many movies were played by the actor who appeared most often in movies?\n",
    "max(eachactor)"
   ]
  },
  {
   "cell_type": "code",
   "execution_count": 26,
   "metadata": {},
   "outputs": [
    {
     "data": {
      "text/plain": [
       "1"
      ]
     },
     "execution_count": 26,
     "metadata": {},
     "output_type": "execute_result"
    }
   ],
   "source": [
    "#7) How many movies were played by the actor who appeared in fewer movies?\n",
    "min(eachactor)"
   ]
  },
  {
   "cell_type": "code",
   "execution_count": 35,
   "metadata": {},
   "outputs": [
    {
     "data": {
      "text/plain": [
       "['Dr. No (1962)',\n",
       " 'From Russia with Love (1963)',\n",
       " 'Goldfinger (1964)',\n",
       " 'Thunderball (1965)',\n",
       " 'You Only Live Twice (1967)',\n",
       " 'Diamonds Are Forever (1971)',\n",
       " 'Never Say Never Again (1983)',\n",
       " 'Casino Royale (1967)',\n",
       " \"On Her Majesty's Secret Service (1969)\",\n",
       " 'Live and Let Die (1973)',\n",
       " 'The Man with the Golden Gun (1974)',\n",
       " 'The Spy Who Loved Me (1977)',\n",
       " 'Moonraker (1979)',\n",
       " 'For Your Eyes Only (1981)',\n",
       " 'Octopussy (1983)',\n",
       " 'A View to a Kill (1985)',\n",
       " 'The Living Daylights (1987)',\n",
       " 'Licence to Kill (1989)',\n",
       " 'GoldenEye (1995)',\n",
       " 'Tomorrow Never Dies (1997)',\n",
       " 'The World Is Not Enough (1999)',\n",
       " 'Die Another Day (2002)',\n",
       " 'Casino Royale (2006)',\n",
       " 'Quantum of Solace (2008)',\n",
       " 'Skyfall (2012)',\n",
       " 'Spectre (2015)']"
      ]
     },
     "execution_count": 35,
     "metadata": {},
     "output_type": "execute_result"
    }
   ],
   "source": [
    "#8) Create a new list (movies007a) with all the films.\n",
    "movies007a=[]\n",
    "movies007a.extend(moviesSeanConnery)\n",
    "movies007a.extend(moviesDavidNeven)\n",
    "movies007a.extend(moviesGeorgeLazenby)\n",
    "movies007a.extend(moviesRogerMoore)\n",
    "movies007a.extend(moviesTimothyDalton)\n",
    "movies007a.extend(moviesPierceBrosnan)\n",
    "movies007a.extend(moviesDanielCraig)\n",
    "movies007a\n"
   ]
  },
  {
   "cell_type": "code",
   "execution_count": 28,
   "metadata": {},
   "outputs": [
    {
     "data": {
      "text/plain": [
       "['A View to a Kill (1985)',\n",
       " 'Casino Royale (1967)',\n",
       " 'Casino Royale (2006)',\n",
       " 'Diamonds Are Forever (1971)',\n",
       " 'Die Another Day (2002)',\n",
       " 'Dr. No (1962)',\n",
       " 'For Your Eyes Only (1981)',\n",
       " 'From Russia with Love (1963)',\n",
       " 'GoldenEye (1995)',\n",
       " 'Goldfinger (1964)',\n",
       " 'Licence to Kill (1989)',\n",
       " 'Live and Let Die (1973)',\n",
       " 'Moonraker (1979)',\n",
       " 'Never Say Never Again (1983)',\n",
       " 'Octopussy (1983)',\n",
       " \"On Her Majesty's Secret Service (1969)\",\n",
       " 'Quantum of Solace (2008)',\n",
       " 'Skyfall (2012)',\n",
       " 'Spectre (2015)',\n",
       " 'The Living Daylights (1987)',\n",
       " 'The Man with the Golden Gun (1974)',\n",
       " 'The Spy Who Loved Me (1977)',\n",
       " 'The World Is Not Enough (1999)',\n",
       " 'Thunderball (1965)',\n",
       " 'Tomorrow Never Dies (1997)',\n",
       " 'You Only Live Twice (1967)']"
      ]
     },
     "execution_count": 28,
     "metadata": {},
     "output_type": "execute_result"
    }
   ],
   "source": [
    "#9) Sort the elements of the list\n",
    "movies007a.sort()\n",
    "movies007a"
   ]
  },
  {
   "cell_type": "code",
   "execution_count": 29,
   "metadata": {},
   "outputs": [
    {
     "data": {
      "text/plain": [
       "['You Only Live Twice (1967)',\n",
       " 'Tomorrow Never Dies (1997)',\n",
       " 'Thunderball (1965)',\n",
       " 'The World Is Not Enough (1999)',\n",
       " 'The Spy Who Loved Me (1977)',\n",
       " 'The Man with the Golden Gun (1974)',\n",
       " 'The Living Daylights (1987)',\n",
       " 'Spectre (2015)',\n",
       " 'Skyfall (2012)',\n",
       " 'Quantum of Solace (2008)',\n",
       " \"On Her Majesty's Secret Service (1969)\",\n",
       " 'Octopussy (1983)',\n",
       " 'Never Say Never Again (1983)',\n",
       " 'Moonraker (1979)',\n",
       " 'Live and Let Die (1973)',\n",
       " 'Licence to Kill (1989)',\n",
       " 'Goldfinger (1964)',\n",
       " 'GoldenEye (1995)',\n",
       " 'From Russia with Love (1963)',\n",
       " 'For Your Eyes Only (1981)',\n",
       " 'Dr. No (1962)',\n",
       " 'Die Another Day (2002)',\n",
       " 'Diamonds Are Forever (1971)',\n",
       " 'Casino Royale (2006)',\n",
       " 'Casino Royale (1967)',\n",
       " 'A View to a Kill (1985)']"
      ]
     },
     "execution_count": 29,
     "metadata": {},
     "output_type": "execute_result"
    }
   ],
   "source": [
    "#9) Reverse the order of the list. What will happen if this method is executed twice? Does thismethod sort the list if it is not sorted?\n",
    "movies007a.reverse()\n",
    "movies007a"
   ]
  },
  {
   "cell_type": "code",
   "execution_count": 30,
   "metadata": {},
   "outputs": [
    {
     "data": {
      "text/plain": [
       "['A View to a Kill (1985)',\n",
       " 'Casino Royale (1967)',\n",
       " 'Casino Royale (2006)',\n",
       " 'Diamonds Are Forever (1971)',\n",
       " 'Die Another Day (2002)',\n",
       " 'Dr. No (1962)',\n",
       " 'For Your Eyes Only (1981)',\n",
       " 'From Russia with Love (1963)',\n",
       " 'GoldenEye (1995)',\n",
       " 'Goldfinger (1964)',\n",
       " 'Licence to Kill (1989)',\n",
       " 'Live and Let Die (1973)',\n",
       " 'Moonraker (1979)',\n",
       " 'Never Say Never Again (1983)',\n",
       " 'Octopussy (1983)',\n",
       " \"On Her Majesty's Secret Service (1969)\",\n",
       " 'Quantum of Solace (2008)',\n",
       " 'Skyfall (2012)',\n",
       " 'Spectre (2015)',\n",
       " 'The Living Daylights (1987)',\n",
       " 'The Man with the Golden Gun (1974)',\n",
       " 'The Spy Who Loved Me (1977)',\n",
       " 'The World Is Not Enough (1999)',\n",
       " 'Thunderball (1965)',\n",
       " 'Tomorrow Never Dies (1997)',\n",
       " 'You Only Live Twice (1967)']"
      ]
     },
     "execution_count": 30,
     "metadata": {},
     "output_type": "execute_result"
    }
   ],
   "source": [
    "movies007a.reverse()\n",
    "movies007a \n",
    "#Ao fazer reverse 2 vezes seguidas a lista aparece em ordem crescente\n",
    "#Este metodo nao faz o sort. Se nao for feito o sort primeiro, na primeira vez que se faz o reverse aparece a ordem ao contrario da apresentada na lista.\n",
    "#Ao fazer reverse outra vez a ordem fica igual à que estava na lista no inicio."
   ]
  },
  {
   "cell_type": "code",
   "execution_count": 31,
   "metadata": {},
   "outputs": [
    {
     "data": {
      "text/plain": [
       "18"
      ]
     },
     "execution_count": 31,
     "metadata": {},
     "output_type": "execute_result"
    }
   ],
   "source": [
    "#10) What is the index of the movie \"Spectre (2015)\" in the list of movies\n",
    "movies007a.index(\"Spectre (2015)\") #index 25 se se fizer stop nas caixas do sort e reverse, para assim verificar o index na lista original"
   ]
  },
  {
   "cell_type": "code",
   "execution_count": 32,
   "metadata": {},
   "outputs": [
    {
     "data": {
      "text/plain": [
       "['A View to a Kill (1985)',\n",
       " 'Casino Royale (1967)',\n",
       " 'Casino Royale (2006)',\n",
       " 'Diamonds Are Forever (1971)',\n",
       " 'Die Another Day (2002)',\n",
       " 'Dr. No (1962)',\n",
       " 'For Your Eyes Only (1981)',\n",
       " 'From Russia with Love (1963)',\n",
       " 'GoldenEye (1995)',\n",
       " 'Goldfinger (1964)',\n",
       " '007 and the bad Guy of the climate change (2020)',\n",
       " 'Licence to Kill (1989)',\n",
       " 'Live and Let Die (1973)',\n",
       " 'Moonraker (1979)',\n",
       " 'Never Say Never Again (1983)',\n",
       " 'Octopussy (1983)',\n",
       " \"On Her Majesty's Secret Service (1969)\",\n",
       " 'Quantum of Solace (2008)',\n",
       " 'Skyfall (2012)',\n",
       " 'Spectre (2015)',\n",
       " 'The Living Daylights (1987)',\n",
       " 'The Man with the Golden Gun (1974)',\n",
       " 'The Spy Who Loved Me (1977)',\n",
       " 'The World Is Not Enough (1999)',\n",
       " 'Thunderball (1965)',\n",
       " 'Tomorrow Never Dies (1997)',\n",
       " 'You Only Live Twice (1967)']"
      ]
     },
     "execution_count": 32,
     "metadata": {},
     "output_type": "execute_result"
    }
   ],
   "source": [
    "#11) Add the movie \"007 and the bad Guy of the climate change (2020)\" in the 11th position\n",
    "movies007a.insert(10,\"007 and the bad Guy of the climate change (2020)\" )\n",
    "movies007a"
   ]
  },
  {
   "cell_type": "code",
   "execution_count": 33,
   "metadata": {},
   "outputs": [
    {
     "data": {
      "text/plain": [
       "['A View to a Kill (1985)',\n",
       " 'Casino Royale (1967)',\n",
       " 'Casino Royale (2006)',\n",
       " 'Diamonds Are Forever (1971)',\n",
       " 'Die Another Day (2002)',\n",
       " 'Dr. No (1962)',\n",
       " 'For Your Eyes Only (1981)',\n",
       " 'From Russia with Love (1963)',\n",
       " 'GoldenEye (1995)',\n",
       " 'Goldfinger (1964)',\n",
       " 'Licence to Kill (1989)',\n",
       " 'Live and Let Die (1973)',\n",
       " 'Moonraker (1979)',\n",
       " 'Never Say Never Again (1983)',\n",
       " 'Octopussy (1983)',\n",
       " \"On Her Majesty's Secret Service (1969)\",\n",
       " 'Quantum of Solace (2008)',\n",
       " 'Skyfall (2012)',\n",
       " 'Spectre (2015)',\n",
       " 'The Living Daylights (1987)',\n",
       " 'The Man with the Golden Gun (1974)',\n",
       " 'The Spy Who Loved Me (1977)',\n",
       " 'The World Is Not Enough (1999)',\n",
       " 'Thunderball (1965)',\n",
       " 'Tomorrow Never Dies (1997)',\n",
       " 'You Only Live Twice (1967)']"
      ]
     },
     "execution_count": 33,
     "metadata": {},
     "output_type": "execute_result"
    }
   ],
   "source": [
    "#12) It was a mistake. Remove the movie \"007 and the bad Guy of the climate change (2020)\"\n",
    "movies007a.remove(\"007 and the bad Guy of the climate change (2020)\")\n",
    "movies007a"
   ]
  }
 ],
 "metadata": {
  "kernelspec": {
   "display_name": "Python 3",
   "language": "python",
   "name": "python3"
  },
  "language_info": {
   "codemirror_mode": {
    "name": "ipython",
    "version": 3
   },
   "file_extension": ".py",
   "mimetype": "text/x-python",
   "name": "python",
   "nbconvert_exporter": "python",
   "pygments_lexer": "ipython3",
   "version": "3.7.4"
  }
 },
 "nbformat": 4,
 "nbformat_minor": 4
}
