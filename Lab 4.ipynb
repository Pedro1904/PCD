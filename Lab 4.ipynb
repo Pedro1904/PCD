{
 "cells": [
  {
   "cell_type": "code",
   "execution_count": 2,
   "metadata": {},
   "outputs": [
    {
     "name": "stdout",
     "output_type": "stream",
     "text": [
      "Insira o seu nome: Pedro\n",
      "Insira a sua idade: 21\n",
      "O seu ano de nascimento é 1999\n"
     ]
    }
   ],
   "source": [
    "#1) Ask the user to insert his name and age. Then, calculate his birth year.\n",
    "name=str(input(\"Insira o seu nome: \"))\n",
    "age=int(input(\"Insira a sua idade: \"))\n",
    "from datetime import date\n",
    "today=date.today()\n",
    "today.year\n",
    "AnoNascimento=today.year-age\n",
    "print(\"O seu ano de nascimento é\",AnoNascimento)"
   ]
  },
  {
   "cell_type": "code",
   "execution_count": 3,
   "metadata": {},
   "outputs": [
    {
     "name": "stdout",
     "output_type": "stream",
     "text": [
      "Write a message: ola\n",
      "yes\n",
      "Write a message: bye\n",
      "yes\n"
     ]
    }
   ],
   "source": [
    "#2) Ask the user to insert a text. The program will always answer \"yes\". The conversation will beclosed when the user says \"bye\".\n",
    "msg = ''\n",
    "while msg != 'bye':\n",
    "    msg = input(\"Write a message: \")\n",
    "    print(\"yes\")\n"
   ]
  },
  {
   "cell_type": "code",
   "execution_count": 4,
   "metadata": {},
   "outputs": [],
   "source": [
    "#3) Create a function for a greeting\n",
    "def greet ():\n",
    "    print (\"Hello!\")"
   ]
  },
  {
   "cell_type": "code",
   "execution_count": 4,
   "metadata": {},
   "outputs": [
    {
     "name": "stdout",
     "output_type": "stream",
     "text": [
      "Hello!\n",
      "Write a message: ola\n",
      "yes\n",
      "Write a message: bye\n",
      "yes\n"
     ]
    }
   ],
   "source": [
    "#4) Call greeting function at the beginning of the conversation.\n",
    "greet()\n",
    "msg=''\n",
    "while msg != 'bye':\n",
    "    msg = input(\"Write a message: \")\n",
    "    print(\"yes\")\n"
   ]
  },
  {
   "cell_type": "code",
   "execution_count": 5,
   "metadata": {},
   "outputs": [
    {
     "name": "stdout",
     "output_type": "stream",
     "text": [
      "Hello!\n",
      "Faça uma pergunta: O que é a vida?\n",
      "O que é a vida? é uma boa pergunta mas nao sei a resposta.\n",
      "Faça uma pergunta: bye\n",
      "bye, obrigado pelas perguntas!\n"
     ]
    }
   ],
   "source": [
    "#5) Improve your chatbot\n",
    "greet()\n",
    "msg=''\n",
    "while msg!='bye':\n",
    "    msg=input(\"Faça uma pergunta: \")\n",
    "    if msg=='bye':\n",
    "        print(\"bye, obrigado pelas perguntas!\")\n",
    "    else:\n",
    "        print(msg, \"é uma boa pergunta mas nao sei a resposta.\")\n"
   ]
  },
  {
   "cell_type": "code",
   "execution_count": 6,
   "metadata": {},
   "outputs": [],
   "source": [
    "#outro exemplo do 5)\n",
    "def chatboot():\n",
    "    text=''\n",
    "    i=0\n",
    "    a=[\"pois\",\"claro\",\"ok...\",\"Não achas que estás a falar demais?\",\"ZZZZ\"]\n",
    "    while text!= 'bye':\n",
    "        text=input(\"insert text: \")\n",
    "        print(a[i])\n",
    "        if i<4:\n",
    "            i+=1"
   ]
  },
  {
   "cell_type": "code",
   "execution_count": 7,
   "metadata": {},
   "outputs": [
    {
     "name": "stdout",
     "output_type": "stream",
     "text": [
      "Hello!\n",
      "insert text: ola\n",
      "pois\n",
      "insert text: tudo bem?\n",
      "claro\n",
      "insert text: ide\n",
      "ok...\n",
      "insert text: atum\n",
      "Não achas que estás a falar demais?\n",
      "insert text: queio\n",
      "ZZZZ\n",
      "insert text: *queijo\n",
      "ZZZZ\n",
      "insert text: bye\n",
      "ZZZZ\n"
     ]
    }
   ],
   "source": [
    "greet()\n",
    "chatboot()"
   ]
  },
  {
   "cell_type": "code",
   "execution_count": null,
   "metadata": {},
   "outputs": [],
   "source": []
  }
 ],
 "metadata": {
  "kernelspec": {
   "display_name": "Python 3",
   "language": "python",
   "name": "python3"
  },
  "language_info": {
   "codemirror_mode": {
    "name": "ipython",
    "version": 3
   },
   "file_extension": ".py",
   "mimetype": "text/x-python",
   "name": "python",
   "nbconvert_exporter": "python",
   "pygments_lexer": "ipython3",
   "version": "3.8.3"
  }
 },
 "nbformat": 4,
 "nbformat_minor": 4
}
