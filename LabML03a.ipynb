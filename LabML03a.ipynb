{
 "cells": [
  {
   "cell_type": "markdown",
   "metadata": {},
   "source": [
    "**LabML03a**\n",
    "\n",
    "Purpose: Identify clusters of Gira docking station\n",
    "\n",
    "1 import libraries needed:numpy, sklearn, matplotlib and pandas\n",
    "\n",
    "2 generate a sample of blobs and convert it into a dataframe called df1\n",
    "\n",
    "3 Verify datatype\n",
    "\n",
    "4 Plot the blobs\n",
    "\n",
    "5 calculete WCSS\n",
    "\n",
    "6 plot the new chart with centroids\n",
    "\n",
    "7 identify to what group does each item belongs\n",
    "\n",
    "Comment the code"
   ]
  },
  {
   "cell_type": "code",
   "execution_count": 4,
   "metadata": {},
   "outputs": [],
   "source": [
    "#importar bibliotecas numpy e pandas e invocar o matplotlib e sklearn.cluster e importar pyplot e KMeans\n",
    "import numpy as np\n",
    "import pandas as pd\n",
    "from matplotlib import pyplot as plt\n",
    "from sklearn.cluster import KMeans"
   ]
  },
  {
   "cell_type": "code",
   "execution_count": 2,
   "metadata": {},
   "outputs": [],
   "source": [
    "#Guardar um string na variavel file\n",
    "file='https://github.com/masterfloss/data/blob/main/giras201030.csv?raw=true'\n",
    "#ler um ficheiro csv e criar um df com os valores obtidos\n",
    "dfGiras=pd.read_csv(file,sep=';')"
   ]
  },
  {
   "cell_type": "code",
   "execution_count": 3,
   "metadata": {},
   "outputs": [
    {
     "data": {
      "text/html": [
       "<div>\n",
       "<style scoped>\n",
       "    .dataframe tbody tr th:only-of-type {\n",
       "        vertical-align: middle;\n",
       "    }\n",
       "\n",
       "    .dataframe tbody tr th {\n",
       "        vertical-align: top;\n",
       "    }\n",
       "\n",
       "    .dataframe thead th {\n",
       "        text-align: right;\n",
       "    }\n",
       "</style>\n",
       "<table border=\"1\" class=\"dataframe\">\n",
       "  <thead>\n",
       "    <tr style=\"text-align: right;\">\n",
       "      <th></th>\n",
       "      <th>desigcomercial</th>\n",
       "      <th>numbicicletas</th>\n",
       "      <th>numdocasvacias</th>\n",
       "      <th>position</th>\n",
       "      <th>add_data</th>\n",
       "      <th>add_hora</th>\n",
       "    </tr>\n",
       "  </thead>\n",
       "  <tbody>\n",
       "    <tr>\n",
       "      <td>0</td>\n",
       "      <td>206 - Av. Brasília / Doca de Alcântara</td>\n",
       "      <td>2</td>\n",
       "      <td>20</td>\n",
       "      <td>{\"coordinates\": [-9.175, 38.701], \"type\": \"Poi...</td>\n",
       "      <td>2019-07-30</td>\n",
       "      <td>15:07:34.</td>\n",
       "    </tr>\n",
       "    <tr>\n",
       "      <td>1</td>\n",
       "      <td>110 - Rua de Moscavide</td>\n",
       "      <td>5</td>\n",
       "      <td>13</td>\n",
       "      <td>{\"coordinates\": [-9.097068, 38.778466], \"type\"...</td>\n",
       "      <td>2020-10-30</td>\n",
       "      <td>19:49:28.</td>\n",
       "    </tr>\n",
       "    <tr>\n",
       "      <td>2</td>\n",
       "      <td>208 - Cais das Pombas</td>\n",
       "      <td>11</td>\n",
       "      <td>11</td>\n",
       "      <td>{\"coordinates\": [-9.14373, 38.70523], \"type\": ...</td>\n",
       "      <td>2020-10-30</td>\n",
       "      <td>19:49:29.</td>\n",
       "    </tr>\n",
       "    <tr>\n",
       "      <td>3</td>\n",
       "      <td>415 - Av. Duque de Ávila / Av. Conde Valbom</td>\n",
       "      <td>2</td>\n",
       "      <td>18</td>\n",
       "      <td>{\"coordinates\": [-9.148443, 38.735188], \"type\"...</td>\n",
       "      <td>2020-10-30</td>\n",
       "      <td>19:49:29.</td>\n",
       "    </tr>\n",
       "    <tr>\n",
       "      <td>4</td>\n",
       "      <td>423 - Av. Conde Valbom / Rua Marquês Sá da Ban...</td>\n",
       "      <td>5</td>\n",
       "      <td>5</td>\n",
       "      <td>{\"coordinates\": [-9.152295, 38.737911], \"type\"...</td>\n",
       "      <td>2020-10-30</td>\n",
       "      <td>19:49:29.</td>\n",
       "    </tr>\n",
       "  </tbody>\n",
       "</table>\n",
       "</div>"
      ],
      "text/plain": [
       "                                      desigcomercial  numbicicletas  \\\n",
       "0             206 - Av. Brasília / Doca de Alcântara              2   \n",
       "1                             110 - Rua de Moscavide              5   \n",
       "2                              208 - Cais das Pombas             11   \n",
       "3        415 - Av. Duque de Ávila / Av. Conde Valbom              2   \n",
       "4  423 - Av. Conde Valbom / Rua Marquês Sá da Ban...              5   \n",
       "\n",
       "   numdocasvacias                                           position  \\\n",
       "0              20  {\"coordinates\": [-9.175, 38.701], \"type\": \"Poi...   \n",
       "1              13  {\"coordinates\": [-9.097068, 38.778466], \"type\"...   \n",
       "2              11  {\"coordinates\": [-9.14373, 38.70523], \"type\": ...   \n",
       "3              18  {\"coordinates\": [-9.148443, 38.735188], \"type\"...   \n",
       "4               5  {\"coordinates\": [-9.152295, 38.737911], \"type\"...   \n",
       "\n",
       "     add_data   add_hora  \n",
       "0  2019-07-30  15:07:34.  \n",
       "1  2020-10-30  19:49:28.  \n",
       "2  2020-10-30  19:49:29.  \n",
       "3  2020-10-30  19:49:29.  \n",
       "4  2020-10-30  19:49:29.  "
      ]
     },
     "execution_count": 3,
     "metadata": {},
     "output_type": "execute_result"
    }
   ],
   "source": [
    "#Mostra as 5 primeiras linhas da tabela\n",
    "dfGiras.head()"
   ]
  },
  {
   "cell_type": "code",
   "execution_count": 4,
   "metadata": {},
   "outputs": [
    {
     "data": {
      "text/plain": [
       "'-9.175'"
      ]
     },
     "execution_count": 4,
     "metadata": {},
     "output_type": "execute_result"
    }
   ],
   "source": [
    "#procurar na primeira linha, na coluna 'position' o valor com index 1 (que é [-9.175,) e retirar o [ e , \n",
    "dfGiras.loc[0,'position'].split()[1].replace('[','').replace(',','')"
   ]
  },
  {
   "cell_type": "code",
   "execution_count": 5,
   "metadata": {},
   "outputs": [],
   "source": [
    "#cria novas colunas lon e lat onde:\n",
    "#na coluna long em cada linha vai à coluna 'position' buscar o valor com index 1 e retirar o [ e , \n",
    "# na coluna lat em cada linha vai à coluna 'position' buscar o valor com index 2 e retirar o ]\n",
    "for i in range(len(dfGiras['position'])):\n",
    "    dfGiras.loc[i,'long']=dfGiras.loc[i,'position'].split()[1].replace('[','').replace(',','')\n",
    "    dfGiras.loc[i,'lat']=dfGiras.loc[i,'position'].split()[2].replace('],','')\n",
    "    \n",
    "    "
   ]
  },
  {
   "cell_type": "code",
   "execution_count": 6,
   "metadata": {},
   "outputs": [
    {
     "data": {
      "text/html": [
       "<div>\n",
       "<style scoped>\n",
       "    .dataframe tbody tr th:only-of-type {\n",
       "        vertical-align: middle;\n",
       "    }\n",
       "\n",
       "    .dataframe tbody tr th {\n",
       "        vertical-align: top;\n",
       "    }\n",
       "\n",
       "    .dataframe thead th {\n",
       "        text-align: right;\n",
       "    }\n",
       "</style>\n",
       "<table border=\"1\" class=\"dataframe\">\n",
       "  <thead>\n",
       "    <tr style=\"text-align: right;\">\n",
       "      <th></th>\n",
       "      <th>desigcomercial</th>\n",
       "      <th>numbicicletas</th>\n",
       "      <th>numdocasvacias</th>\n",
       "      <th>position</th>\n",
       "      <th>add_data</th>\n",
       "      <th>add_hora</th>\n",
       "      <th>long</th>\n",
       "      <th>lat</th>\n",
       "    </tr>\n",
       "  </thead>\n",
       "  <tbody>\n",
       "    <tr>\n",
       "      <td>0</td>\n",
       "      <td>206 - Av. Brasília / Doca de Alcântara</td>\n",
       "      <td>2</td>\n",
       "      <td>20</td>\n",
       "      <td>{\"coordinates\": [-9.175, 38.701], \"type\": \"Poi...</td>\n",
       "      <td>2019-07-30</td>\n",
       "      <td>15:07:34.</td>\n",
       "      <td>-9.175</td>\n",
       "      <td>38.701</td>\n",
       "    </tr>\n",
       "    <tr>\n",
       "      <td>1</td>\n",
       "      <td>110 - Rua de Moscavide</td>\n",
       "      <td>5</td>\n",
       "      <td>13</td>\n",
       "      <td>{\"coordinates\": [-9.097068, 38.778466], \"type\"...</td>\n",
       "      <td>2020-10-30</td>\n",
       "      <td>19:49:28.</td>\n",
       "      <td>-9.097068</td>\n",
       "      <td>38.778466</td>\n",
       "    </tr>\n",
       "    <tr>\n",
       "      <td>2</td>\n",
       "      <td>208 - Cais das Pombas</td>\n",
       "      <td>11</td>\n",
       "      <td>11</td>\n",
       "      <td>{\"coordinates\": [-9.14373, 38.70523], \"type\": ...</td>\n",
       "      <td>2020-10-30</td>\n",
       "      <td>19:49:29.</td>\n",
       "      <td>-9.14373</td>\n",
       "      <td>38.70523</td>\n",
       "    </tr>\n",
       "    <tr>\n",
       "      <td>3</td>\n",
       "      <td>415 - Av. Duque de Ávila / Av. Conde Valbom</td>\n",
       "      <td>2</td>\n",
       "      <td>18</td>\n",
       "      <td>{\"coordinates\": [-9.148443, 38.735188], \"type\"...</td>\n",
       "      <td>2020-10-30</td>\n",
       "      <td>19:49:29.</td>\n",
       "      <td>-9.148443</td>\n",
       "      <td>38.735188</td>\n",
       "    </tr>\n",
       "    <tr>\n",
       "      <td>4</td>\n",
       "      <td>423 - Av. Conde Valbom / Rua Marquês Sá da Ban...</td>\n",
       "      <td>5</td>\n",
       "      <td>5</td>\n",
       "      <td>{\"coordinates\": [-9.152295, 38.737911], \"type\"...</td>\n",
       "      <td>2020-10-30</td>\n",
       "      <td>19:49:29.</td>\n",
       "      <td>-9.152295</td>\n",
       "      <td>38.737911</td>\n",
       "    </tr>\n",
       "  </tbody>\n",
       "</table>\n",
       "</div>"
      ],
      "text/plain": [
       "                                      desigcomercial  numbicicletas  \\\n",
       "0             206 - Av. Brasília / Doca de Alcântara              2   \n",
       "1                             110 - Rua de Moscavide              5   \n",
       "2                              208 - Cais das Pombas             11   \n",
       "3        415 - Av. Duque de Ávila / Av. Conde Valbom              2   \n",
       "4  423 - Av. Conde Valbom / Rua Marquês Sá da Ban...              5   \n",
       "\n",
       "   numdocasvacias                                           position  \\\n",
       "0              20  {\"coordinates\": [-9.175, 38.701], \"type\": \"Poi...   \n",
       "1              13  {\"coordinates\": [-9.097068, 38.778466], \"type\"...   \n",
       "2              11  {\"coordinates\": [-9.14373, 38.70523], \"type\": ...   \n",
       "3              18  {\"coordinates\": [-9.148443, 38.735188], \"type\"...   \n",
       "4               5  {\"coordinates\": [-9.152295, 38.737911], \"type\"...   \n",
       "\n",
       "     add_data   add_hora       long        lat  \n",
       "0  2019-07-30  15:07:34.     -9.175     38.701  \n",
       "1  2020-10-30  19:49:28.  -9.097068  38.778466  \n",
       "2  2020-10-30  19:49:29.   -9.14373   38.70523  \n",
       "3  2020-10-30  19:49:29.  -9.148443  38.735188  \n",
       "4  2020-10-30  19:49:29.  -9.152295  38.737911  "
      ]
     },
     "execution_count": 6,
     "metadata": {},
     "output_type": "execute_result"
    }
   ],
   "source": [
    "#Mostra as 5 primeiras linhas da tabela\n",
    "dfGiras.head()"
   ]
  },
  {
   "cell_type": "code",
   "execution_count": 7,
   "metadata": {},
   "outputs": [
    {
     "data": {
      "text/plain": [
       "long    object\n",
       "lat     object\n",
       "dtype: object"
      ]
     },
     "execution_count": 7,
     "metadata": {},
     "output_type": "execute_result"
    }
   ],
   "source": [
    "#criar no data frame com as colunas long e lat\n",
    "df1=dfGiras[['long','lat']]\n",
    "#mostrar o tipo de dados\n",
    "df1.dtypes"
   ]
  },
  {
   "cell_type": "code",
   "execution_count": 8,
   "metadata": {},
   "outputs": [
    {
     "name": "stderr",
     "output_type": "stream",
     "text": [
      "C:\\Users\\pedro\\Anaconda3\\lib\\site-packages\\pandas\\core\\indexing.py:576: SettingWithCopyWarning: \n",
      "A value is trying to be set on a copy of a slice from a DataFrame.\n",
      "Try using .loc[row_indexer,col_indexer] = value instead\n",
      "\n",
      "See the caveats in the documentation: http://pandas.pydata.org/pandas-docs/stable/user_guide/indexing.html#returning-a-view-versus-a-copy\n",
      "  self.obj[item_labels[indexer[info_axis]]] = value\n",
      "C:\\Users\\pedro\\Anaconda3\\lib\\site-packages\\pandas\\core\\indexing.py:494: SettingWithCopyWarning: \n",
      "A value is trying to be set on a copy of a slice from a DataFrame.\n",
      "Try using .loc[row_indexer,col_indexer] = value instead\n",
      "\n",
      "See the caveats in the documentation: http://pandas.pydata.org/pandas-docs/stable/user_guide/indexing.html#returning-a-view-versus-a-copy\n",
      "  self.obj[item] = s\n"
     ]
    }
   ],
   "source": [
    "#passar os dados de objetos para floats\n",
    "df1.loc[:,'long']=pd.to_numeric(df1.loc[:,'long'])\n",
    "df1.loc[:,'lat']=pd.to_numeric(df1.loc[:,'lat'])\n"
   ]
  },
  {
   "cell_type": "code",
   "execution_count": 9,
   "metadata": {},
   "outputs": [
    {
     "data": {
      "text/plain": [
       "long    float64\n",
       "lat     float64\n",
       "dtype: object"
      ]
     },
     "execution_count": 9,
     "metadata": {},
     "output_type": "execute_result"
    }
   ],
   "source": [
    "#mostrar o tipo de dados\n",
    "df1.dtypes"
   ]
  },
  {
   "cell_type": "code",
   "execution_count": 10,
   "metadata": {},
   "outputs": [
    {
     "data": {
      "text/plain": [
       "Text(0, 0.5, 'lat')"
      ]
     },
     "execution_count": 10,
     "metadata": {},
     "output_type": "execute_result"
    },
    {
     "data": {
      "image/png": "[encoded data removed]",
      "text/plain": [
       "<Figure size 432x288 with 1 Axes>"
      ]
     },
     "metadata": {
      "needs_background": "light"
     },
     "output_type": "display_data"
    }
   ],
   "source": [
    "#criar grafico com os data frames de long e lat\n",
    "plt.scatter(df1['long'], df1['lat'])\n",
    "#onde o titulo é 'Giras'\n",
    "plt.title('Giras')\n",
    "#No eixo do X fica o long\n",
    "plt.xlabel('long')\n",
    "#No eixo do Y fica o lat\n",
    "plt.ylabel('lat')"
   ]
  },
  {
   "cell_type": "code",
   "execution_count": 11,
   "metadata": {},
   "outputs": [
    {
     "data": {
      "image/png": "[encoded data removed]",
      "text/plain": [
       "<Figure size 432x288 with 1 Axes>"
      ]
     },
     "metadata": {
      "needs_background": "light"
     },
     "output_type": "display_data"
    }
   ],
   "source": [
    "#definir o número de clusters para o KMeans\n",
    "wcss = []\n",
    "for i in range(1, 11):\n",
    "    model = KMeans(n_clusters=i, init='k-means++', max_iter=300, n_init=10, random_state=0)\n",
    "    model.fit(df1)\n",
    "    wcss.append(model.inertia_)\n",
    "plt.plot(range(1, 11), wcss)\n",
    "plt.title('Elbow Method')\n",
    "plt.xlabel('Number of clusters')\n",
    "plt.ylabel('WCSS')\n",
    "plt.show()"
   ]
  },
  {
   "cell_type": "code",
   "execution_count": null,
   "metadata": {},
   "outputs": [],
   "source": []
  },
  {
   "cell_type": "code",
   "execution_count": 19,
   "metadata": {},
   "outputs": [
    {
     "data": {
      "image/png": "[encoded data removed]",
      "text/plain": [
       "<Figure size 432x288 with 1 Axes>"
      ]
     },
     "metadata": {
      "needs_background": "light"
     },
     "output_type": "display_data"
    }
   ],
   "source": [
    "model1 = KMeans(n_clusters=5, init='k-means++', max_iter=400, n_init=10, random_state=0)\n",
    "model1.fit_predict(df1)\n",
    "plt.scatter(df1[\"long\"], df1[\"lat\"])\n",
    "plt.scatter(model1.cluster_centers_[:, 0], model1.cluster_centers_[:, 1], s=300, c='red')\n",
    "plt.show()\n"
   ]
  },
  {
   "cell_type": "code",
   "execution_count": 13,
   "metadata": {},
   "outputs": [
    {
     "data": {
      "text/plain": [
       "array([4])"
      ]
     },
     "execution_count": 13,
     "metadata": {},
     "output_type": "execute_result"
    }
   ],
   "source": [
    "model1.predict(df1.loc[0:0,:])"
   ]
  },
  {
   "cell_type": "code",
   "execution_count": 14,
   "metadata": {},
   "outputs": [
    {
     "data": {
      "text/plain": [
       "array([4, 2, 0, 1, 1, 0, 1, 1, 2, 1, 3, 3, 1, 1, 1, 1, 0, 0, 0, 2, 1, 1,\n",
       "       1, 0, 1, 3, 0, 3, 1, 3, 1, 0, 1, 1, 3, 2, 3, 1, 0, 1, 1, 0, 3, 1,\n",
       "       0, 1, 1, 2, 1, 1, 0, 3, 4, 4, 3, 2, 2, 2, 1, 1, 2, 0, 1, 1, 0, 0,\n",
       "       2, 0, 3, 2, 1, 1, 0, 1, 1, 1, 3, 2, 0, 1, 0, 1, 3, 3, 1, 0, 2, 1,\n",
       "       1, 2, 1, 1, 3, 0, 2, 1])"
      ]
     },
     "execution_count": 14,
     "metadata": {},
     "output_type": "execute_result"
    }
   ],
   "source": [
    "model1.predict(df1)"
   ]
  },
  {
   "cell_type": "code",
   "execution_count": null,
   "metadata": {},
   "outputs": [],
   "source": []
  }
 ],
 "metadata": {
  "kernelspec": {
   "display_name": "Python 3",
   "language": "python",
   "name": "python3"
  },
  "language_info": {
   "codemirror_mode": {
    "name": "ipython",
    "version": 3
   },
   "file_extension": ".py",
   "mimetype": "text/x-python",
   "name": "python",
   "nbconvert_exporter": "python",
   "pygments_lexer": "ipython3",
   "version": "3.8.3"
  }
 },
 "nbformat": 4,
 "nbformat_minor": 2
}
